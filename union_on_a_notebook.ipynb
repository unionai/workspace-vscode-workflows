{
 "cells": [
  {
   "cell_type": "markdown",
   "id": "de7dabb0",
   "metadata": {},
   "source": [
    "# 📘 Using Union with Jupyter Notebooks\n",
    "\n",
    "You can interact with Union using the `UnionRemote` object, which\n",
    "is a client that exposes several methods for you to programmatically:\n",
    "\n",
    "1. Register tasks and workflows\n",
    "2. Execute tasks and workflows\n",
    "3. Fetch and inspect task and workflow outputs\n",
    "\n",
    "In this notebook, we'll grab the model that we trained in the previous step."
   ]
  },
  {
   "cell_type": "markdown",
   "id": "24e9c01e",
   "metadata": {},
   "source": [
    "## Initializing `UnionRemote`\n",
    "\n",
    "We first initialize a `UnionRemote` object with the configuration needed\n",
    "to access objects from Union Serverless."
   ]
  },
  {
   "cell_type": "code",
   "execution_count": null,
   "id": "0d5d843e",
   "metadata": {},
   "outputs": [],
   "source": [
    "from union.remote import UnionRemote\n",
    "\n",
    "remote = UnionRemote()"
   ]
  },
  {
   "cell_type": "markdown",
   "id": "59d93ad3",
   "metadata": {},
   "source": [
    "## Fetching a Workflow Execution\n",
    "\n",
    "To fetch the workflow execution artifacts, replace the `execution_id = <REPLACE_ME>`\n",
    "variable with the unique execution id created by Union.\n",
    "\n",
    "For example, after running the `union run` command,\n",
    "the execution id can be found in the URL:\n",
    "\n",
    "```\n",
    "Go to https://sandbox.union.ai/console/projects/flytesnacks/domains/development/executions/<EXECUTION_ID> to see execution in the console.\n",
    "```"
   ]
  },
  {
   "cell_type": "code",
   "execution_count": null,
   "id": "77cf6835",
   "metadata": {},
   "outputs": [],
   "source": [
    "execution_id = \"<REPLACE_ME>\"\n",
    "execution = remote.fetch_execution(name=execution_id)\n",
    "remote.sync(execution, sync_nodes=True)\n",
    "\n",
    "# get execution output keys\n",
    "execution.outputs.keys()"
   ]
  },
  {
   "cell_type": "markdown",
   "id": "368c8703",
   "metadata": {},
   "source": [
    "As you can see, `execution.outputs` is a dict-like object with a single\n",
    "key `\"o0\"`, which we can use to access the sklearn model object we just\n",
    "trained."
   ]
  },
  {
   "cell_type": "code",
   "execution_count": null,
   "id": "3f9e4c1e",
   "metadata": {},
   "outputs": [],
   "source": [
    "from sklearn.linear_model import LogisticRegression\n",
    "\n",
    "model = execution.outputs.get(\"o0\", as_type=LogisticRegression)\n",
    "model"
   ]
  },
  {
   "cell_type": "markdown",
   "id": "72ff0cd0",
   "metadata": {},
   "source": [
    "We can now use this model just like any other estimator to generate predictions:"
   ]
  },
  {
   "cell_type": "code",
   "execution_count": null,
   "id": "07159883",
   "metadata": {},
   "outputs": [],
   "source": [
    "from sklearn.datasets import load_wine\n",
    "from sklearn.metrics import accuracy_score\n",
    "\n",
    "data = load_wine(as_frame=True).frame\n",
    "target = data[\"target\"]\n",
    "features = data.drop(\"target\", axis=\"columns\")\n",
    "\n",
    "predictions = model.predict(features)\n",
    "accuracy_score(target, predictions)"
   ]
  },
  {
   "cell_type": "markdown",
   "id": "5a6877f2",
   "metadata": {},
   "source": [
    "## Fetching Intermediate Results\n",
    "\n",
    "You can also fetch intermediate results of the tasks in our workflow. For example, if we want to visualize the difference in distribution of class targets between our raw processed data, we can do the following:"
   ]
  },
  {
   "cell_type": "code",
   "execution_count": null,
   "id": "de994904",
   "metadata": {},
   "outputs": [],
   "source": [
    "execution.node_executions.keys()"
   ]
  },
  {
   "cell_type": "markdown",
   "id": "7d7b29a5",
   "metadata": {},
   "source": [
    "As you can see, Union has implicit `start-node` and `end-node` nodes that mark\n",
    "the beginning and end of a workflow, respectively.\n",
    "\n",
    "You can see that it also has `n*` nodes to represent tasks nodes in between. We know\n",
    "that the `get_data` task was the `0th` node and the `process_data` task was the\n",
    "`1st` node in our workflow:"
   ]
  },
  {
   "cell_type": "code",
   "execution_count": null,
   "id": "de64387c",
   "metadata": {
    "scrolled": false
   },
   "outputs": [],
   "source": [
    "import pandas as pd\n",
    "\n",
    "# get raw data\n",
    "raw_data = execution.node_executions[\"n0\"].outputs[\"o0\"]\n",
    "raw_data = raw_data.open(pd.DataFrame).all()\n",
    "\n",
    "# get processed data\n",
    "processed_data = execution.node_executions[\"n1\"].outputs[\"o0\"]\n",
    "processed_data = processed_data.open(pd.DataFrame).all()"
   ]
  },
  {
   "cell_type": "markdown",
   "id": "9e6ab3b5",
   "metadata": {},
   "source": [
    "Then, we simply plot the classes to see that we successfully aggregated\n",
    "class `1` and `2` to a single class of `1`."
   ]
  },
  {
   "cell_type": "code",
   "execution_count": null,
   "id": "67774ab6",
   "metadata": {},
   "outputs": [],
   "source": [
    "import matplotlib.pyplot as plt\n",
    "\n",
    "\n",
    "fig, axes = plt.subplots(1, 2)\n",
    "raw_data[\"target\"].value_counts().plot.barh(ax=axes[0], title=\"raw data\")\n",
    "processed_data[\"target\"].value_counts().plot.barh(ax=axes[1], title=\"processed data\");"
   ]
  },
  {
   "cell_type": "markdown",
   "id": "f1bc2624",
   "metadata": {},
   "source": [
    "## Executing a Workflow with `UnionRemote`\n",
    "\n",
    "Finally, you can execute a workflow from a Python runtime like so:"
   ]
  },
  {
   "cell_type": "code",
   "execution_count": null,
   "id": "ff3bdbc7",
   "metadata": {},
   "outputs": [],
   "source": [
    "workflow_name = \"workflows.union_workflow.training_workflow\"\n",
    "workflow = remote.fetch_workflow(name=workflow_name)\n",
    "execution = remote.execute(workflow, inputs={})\n",
    "print(f\"Go to {remote.generate_console_url(execution)} to see execution in the console.\")"
   ]
  }
 ],
 "metadata": {
  "kernelspec": {
   "display_name": "Python 3",
   "language": "python",
   "name": "python3"
  },
  "language_info": {
   "codemirror_mode": {
    "name": "ipython",
    "version": 3
   },
   "file_extension": ".py",
   "mimetype": "text/x-python",
   "name": "python",
   "nbconvert_exporter": "python",
   "pygments_lexer": "ipython3",
   "version": "3.11.10"
  }
 },
 "nbformat": 4,
 "nbformat_minor": 5
}
