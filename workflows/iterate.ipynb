{
 "cells": [
  {
   "cell_type": "markdown",
   "metadata": {},
   "source": [
    "# Iterating on a Notebook"
   ]
  },
  {
   "cell_type": "markdown",
   "metadata": {},
   "source": [
    "Let's redefine the model training workflow from the previous step in a notebook.\n",
    "\n",
    "First, we import `union` and the necessary packages:"
   ]
  },
  {
   "cell_type": "code",
   "execution_count": null,
   "metadata": {},
   "outputs": [],
   "source": [
    "import union\n",
    "import pandas as pd\n",
    "from sklearn.neural_network import MLPClassifier"
   ]
  },
  {
   "cell_type": "markdown",
   "metadata": {},
   "source": [
    "Then we define the container image, our tasks, and the workflow:"
   ]
  },
  {
   "cell_type": "code",
   "execution_count": 19,
   "metadata": {},
   "outputs": [],
   "source": [
    "image = union.ImageSpec(packages=[\"pandas\", \"pyarrow\", \"scikit-learn\", \"flytekit==1.14.0b6\"])\n",
    "\n",
    "@union.task(container_image=image)\n",
    "def get_data() -> pd.DataFrame:\n",
    "    \"\"\"Get the wine dataset.\"\"\"\n",
    "    from sklearn.datasets import load_wine\n",
    "\n",
    "    print(\"Getting data\")\n",
    "    data = load_wine(as_frame=True).frame\n",
    "    return data.assign(target=lambda x: x[\"target\"].where(x[\"target\"] == 0, 1))\n",
    "\n",
    "\n",
    "@union.task(container_image=image)\n",
    "def train_model(max_iter: int, hidden_layer_sizes: list[int], data: pd.DataFrame) -> MLPClassifier:\n",
    "    \"\"\"Train a model on the wine dataset.\"\"\"\n",
    "    print(\"Training model\")\n",
    "    features = data.drop(\"target\", axis=\"columns\")\n",
    "    target = data[\"target\"]\n",
    "    model = MLPClassifier(max_iter=max_iter, hidden_layer_sizes=hidden_layer_sizes)\n",
    "    return model.fit(features, target)\n",
    "\n",
    "\n",
    "@union.workflow\n",
    "def training_workflow(\n",
    "    max_iter: int = 50,\n",
    "    hidden_layer_sizes: list[int] = [100, 100],\n",
    ") -> MLPClassifier:\n",
    "    \"\"\"Put all of the steps together into a single workflow.\"\"\"\n",
    "    data = get_data()\n",
    "    return train_model(max_iter, hidden_layer_sizes, data)"
   ]
  },
  {
   "cell_type": "markdown",
   "metadata": {},
   "source": [
    "## Running the workflow locally"
   ]
  },
  {
   "cell_type": "markdown",
   "metadata": {},
   "source": [
    "We can run the workflow locally by calling the `training_workflow` as a\n",
    "Python function, which returns a `MLPClassifier` object:"
   ]
  },
  {
   "cell_type": "code",
   "execution_count": null,
   "metadata": {},
   "outputs": [],
   "source": [
    "training_workflow(max_iter=50)"
   ]
  },
  {
   "cell_type": "markdown",
   "metadata": {},
   "source": [
    "## Running the workflow remotely\n",
    "\n",
    "To run the workflow remotely, create a `UnionRemote` object."
   ]
  },
  {
   "cell_type": "code",
   "execution_count": null,
   "metadata": {},
   "outputs": [],
   "source": [
    "from union.remote import UnionRemote\n",
    "\n",
    "serverless = UnionRemote()"
   ]
  },
  {
   "cell_type": "markdown",
   "metadata": {},
   "source": [
    "Then, run the workflow by passing the `training_workflow` function into the\n",
    "`serverless.execute` method:\n"
   ]
  },
  {
   "cell_type": "code",
   "execution_count": null,
   "metadata": {},
   "outputs": [],
   "source": [
    "execution = serverless.execute(training_workflow, inputs={\"max_iter\": 500})\n",
    "execution"
   ]
  },
  {
   "cell_type": "markdown",
   "metadata": {},
   "source": [
    "Inspect the execution on the Union dashboard by clicking on the link above 👆."
   ]
  },
  {
   "cell_type": "markdown",
   "metadata": {},
   "source": [
    "## Pulling workflow outputs into the notebook\n",
    "\n",
    "To pull the outputs of a workflow execution into the notebook, we can wait for\n",
    "the execution to complete and then access the outputs:"
   ]
  },
  {
   "cell_type": "code",
   "execution_count": null,
   "metadata": {},
   "outputs": [],
   "source": [
    "execution.wait(poll_interval=1)\n",
    "model = execution.outputs['o0']\n",
    "model"
   ]
  },
  {
   "cell_type": "markdown",
   "metadata": {},
   "source": [
    "Let's generate some predictions on the training dataset:"
   ]
  },
  {
   "cell_type": "code",
   "execution_count": null,
   "metadata": {},
   "outputs": [],
   "source": [
    "from sklearn.datasets import load_wine\n",
    "\n",
    "data = load_wine(as_frame=True).frame.sample(10, random_state=123)\n",
    "features = data.drop(\"target\", axis=\"columns\")\n",
    "model.predict(features)"
   ]
  }
 ],
 "metadata": {
  "kernelspec": {
   "display_name": "workspace-vscode-extension",
   "language": "python",
   "name": "python3"
  },
  "language_info": {
   "codemirror_mode": {
    "name": "ipython",
    "version": 3
   },
   "file_extension": ".py",
   "mimetype": "text/x-python",
   "name": "python",
   "nbconvert_exporter": "python",
   "pygments_lexer": "ipython3",
   "version": "3.11.10"
  }
 },
 "nbformat": 4,
 "nbformat_minor": 2
}
